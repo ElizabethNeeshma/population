{
 "cells": [
  {
   "cell_type": "code",
   "execution_count": 14,
   "id": "86a8f8b3",
   "metadata": {},
   "outputs": [],
   "source": [
    "import numpy as np \n",
    "import pandas as pd\n",
    "import matplotlib.pyplot as plt\n",
    "import seaborn as sns\n",
    "from scipy.stats import skew, kurtosis\n",
    "import scipy.stats as stats"
   ]
  },
  {
   "cell_type": "code",
   "execution_count": 15,
   "id": "a616f5f3",
   "metadata": {},
   "outputs": [
    {
     "data": {
      "text/html": [
       "<div>\n",
       "<style scoped>\n",
       "    .dataframe tbody tr th:only-of-type {\n",
       "        vertical-align: middle;\n",
       "    }\n",
       "\n",
       "    .dataframe tbody tr th {\n",
       "        vertical-align: top;\n",
       "    }\n",
       "\n",
       "    .dataframe thead th {\n",
       "        text-align: right;\n",
       "    }\n",
       "</style>\n",
       "<table border=\"1\" class=\"dataframe\">\n",
       "  <thead>\n",
       "    <tr style=\"text-align: right;\">\n",
       "      <th></th>\n",
       "      <th>Country Name</th>\n",
       "      <th>Population (Jan 2024)</th>\n",
       "      <th>Population(2023)</th>\n",
       "      <th>Area(km)</th>\n",
       "      <th>Land Area (Km)</th>\n",
       "      <th>Density(/Km)</th>\n",
       "      <th>Growth Rate</th>\n",
       "      <th>World%</th>\n",
       "      <th>Rank</th>\n",
       "    </tr>\n",
       "  </thead>\n",
       "  <tbody>\n",
       "    <tr>\n",
       "      <th>0</th>\n",
       "      <td>India</td>\n",
       "      <td>1,43,63,97,893</td>\n",
       "      <td>1,42,86,27,663</td>\n",
       "      <td>3.3M</td>\n",
       "      <td>3M</td>\n",
       "      <td>485</td>\n",
       "      <td>0.92%</td>\n",
       "      <td>18.01%</td>\n",
       "      <td>1</td>\n",
       "    </tr>\n",
       "    <tr>\n",
       "      <th>1</th>\n",
       "      <td>China</td>\n",
       "      <td>1,42,54,36,213</td>\n",
       "      <td>1,42,56,71,352</td>\n",
       "      <td>9.7M</td>\n",
       "      <td>9.4M</td>\n",
       "      <td>151</td>\n",
       "      <td>-0.03%</td>\n",
       "      <td>17.80%</td>\n",
       "      <td>2</td>\n",
       "    </tr>\n",
       "    <tr>\n",
       "      <th>2</th>\n",
       "      <td>United States</td>\n",
       "      <td>34,10,75,762</td>\n",
       "      <td>33,99,96,563</td>\n",
       "      <td>9.4M</td>\n",
       "      <td>9.1M</td>\n",
       "      <td>37</td>\n",
       "      <td>0.53%</td>\n",
       "      <td>4.27%</td>\n",
       "      <td>3</td>\n",
       "    </tr>\n",
       "    <tr>\n",
       "      <th>3</th>\n",
       "      <td>Indonesia</td>\n",
       "      <td>27,88,83,459</td>\n",
       "      <td>27,75,34,122</td>\n",
       "      <td>1.9M</td>\n",
       "      <td>1.9M</td>\n",
       "      <td>149</td>\n",
       "      <td>0.82%</td>\n",
       "      <td>3.50%</td>\n",
       "      <td>4</td>\n",
       "    </tr>\n",
       "    <tr>\n",
       "      <th>4</th>\n",
       "      <td>Pakistan</td>\n",
       "      <td>24,32,70,676</td>\n",
       "      <td>24,04,85,658</td>\n",
       "      <td>881.9K</td>\n",
       "      <td>770.9K</td>\n",
       "      <td>318</td>\n",
       "      <td>1.96%</td>\n",
       "      <td>3.06%</td>\n",
       "      <td>5</td>\n",
       "    </tr>\n",
       "    <tr>\n",
       "      <th>...</th>\n",
       "      <td>...</td>\n",
       "      <td>...</td>\n",
       "      <td>...</td>\n",
       "      <td>...</td>\n",
       "      <td>...</td>\n",
       "      <td>...</td>\n",
       "      <td>...</td>\n",
       "      <td>...</td>\n",
       "      <td>...</td>\n",
       "    </tr>\n",
       "    <tr>\n",
       "      <th>229</th>\n",
       "      <td>Montserrat</td>\n",
       "      <td>NaN</td>\n",
       "      <td>4,386</td>\n",
       "      <td>102</td>\n",
       "      <td>102</td>\n",
       "      <td>43</td>\n",
       "      <td>-0.32%</td>\n",
       "      <td>NaN</td>\n",
       "      <td>230</td>\n",
       "    </tr>\n",
       "    <tr>\n",
       "      <th>230</th>\n",
       "      <td>Falkland Islands</td>\n",
       "      <td>NaN</td>\n",
       "      <td>3,791</td>\n",
       "      <td>12.2K</td>\n",
       "      <td>12.2K</td>\n",
       "      <td>0.31</td>\n",
       "      <td>0.32%</td>\n",
       "      <td>NaN</td>\n",
       "      <td>231</td>\n",
       "    </tr>\n",
       "    <tr>\n",
       "      <th>231</th>\n",
       "      <td>Niue</td>\n",
       "      <td>1,935</td>\n",
       "      <td>1,935</td>\n",
       "      <td>261</td>\n",
       "      <td>261</td>\n",
       "      <td>7</td>\n",
       "      <td>NaN</td>\n",
       "      <td>NaN</td>\n",
       "      <td>232</td>\n",
       "    </tr>\n",
       "    <tr>\n",
       "      <th>232</th>\n",
       "      <td>Tokelau</td>\n",
       "      <td>NaN</td>\n",
       "      <td>1,893</td>\n",
       "      <td>12</td>\n",
       "      <td>10</td>\n",
       "      <td>192</td>\n",
       "      <td>1.16%</td>\n",
       "      <td>NaN</td>\n",
       "      <td>233</td>\n",
       "    </tr>\n",
       "    <tr>\n",
       "      <th>233</th>\n",
       "      <td>Vatican City</td>\n",
       "      <td>NaN</td>\n",
       "      <td>518</td>\n",
       "      <td>&lt; 1</td>\n",
       "      <td>&lt; 1</td>\n",
       "      <td>1,195</td>\n",
       "      <td>1.54%</td>\n",
       "      <td>NaN</td>\n",
       "      <td>234</td>\n",
       "    </tr>\n",
       "  </tbody>\n",
       "</table>\n",
       "<p>234 rows × 9 columns</p>\n",
       "</div>"
      ],
      "text/plain": [
       "         Country Name Population (Jan 2024) Population(2023) Area(km)  \\\n",
       "0               India        1,43,63,97,893   1,42,86,27,663     3.3M   \n",
       "1               China        1,42,54,36,213   1,42,56,71,352     9.7M   \n",
       "2       United States          34,10,75,762     33,99,96,563     9.4M   \n",
       "3           Indonesia          27,88,83,459     27,75,34,122     1.9M   \n",
       "4            Pakistan          24,32,70,676     24,04,85,658   881.9K   \n",
       "..                ...                   ...              ...      ...   \n",
       "229        Montserrat                   NaN            4,386      102   \n",
       "230  Falkland Islands                   NaN            3,791    12.2K   \n",
       "231              Niue                 1,935            1,935      261   \n",
       "232           Tokelau                   NaN            1,893       12   \n",
       "233      Vatican City                   NaN              518      < 1   \n",
       "\n",
       "    Land Area (Km) Density(/Km) Growth Rate  World%  Rank  \n",
       "0               3M          485       0.92%  18.01%     1  \n",
       "1             9.4M          151      -0.03%  17.80%     2  \n",
       "2             9.1M           37       0.53%   4.27%     3  \n",
       "3             1.9M          149       0.82%   3.50%     4  \n",
       "4           770.9K          318       1.96%   3.06%     5  \n",
       "..             ...          ...         ...     ...   ...  \n",
       "229            102           43      -0.32%     NaN   230  \n",
       "230          12.2K         0.31       0.32%     NaN   231  \n",
       "231            261            7         NaN     NaN   232  \n",
       "232             10          192       1.16%     NaN   233  \n",
       "233            < 1        1,195       1.54%     NaN   234  \n",
       "\n",
       "[234 rows x 9 columns]"
      ]
     },
     "execution_count": 15,
     "metadata": {},
     "output_type": "execute_result"
    }
   ],
   "source": [
    "#Read data from the CSV file named 'population.csv' and store it in a DataFrame named 'population'\n",
    "population=pd.read_csv('population.csv')\n",
    "population"
   ]
  },
  {
   "cell_type": "code",
   "execution_count": 16,
   "id": "692fd61d",
   "metadata": {},
   "outputs": [
    {
     "data": {
      "text/plain": [
       "Country Name              0\n",
       "Population (Jan 2024)    10\n",
       "Population(2023)          0\n",
       "Area(km)                  0\n",
       "Land Area (Km)            0\n",
       "Density(/Km)              0\n",
       "Growth Rate               2\n",
       "World%                   57\n",
       "Rank                      0\n",
       "dtype: int64"
      ]
     },
     "execution_count": 16,
     "metadata": {},
     "output_type": "execute_result"
    }
   ],
   "source": [
    "#Display the population DataFrame\n",
    "population\n",
    "# Check for null values in the population DataFrame and sum them.\n",
    "population.isnull().sum()"
   ]
  },
  {
   "cell_type": "code",
   "execution_count": 17,
   "id": "e888ffdd",
   "metadata": {},
   "outputs": [
    {
     "data": {
      "text/plain": [
       "Country Name             0\n",
       "Population (Jan 2024)    0\n",
       "Population(2023)         0\n",
       "Area(km)                 0\n",
       "Land Area (Km)           0\n",
       "Density(/Km)             0\n",
       "Growth Rate              0\n",
       "World%                   0\n",
       "Rank                     0\n",
       "dtype: int64"
      ]
     },
     "execution_count": 17,
     "metadata": {},
     "output_type": "execute_result"
    }
   ],
   "source": [
    "#Remove rows with null values from the 'population' DataFrame\n",
    "pop = population.dropna()\n",
    "# Check for null values in each column of the 'pop' DataFrame and sum them up\n",
    "pop.isnull().sum()"
   ]
  },
  {
   "cell_type": "code",
   "execution_count": 18,
   "id": "f27c2246",
   "metadata": {},
   "outputs": [
    {
     "data": {
      "text/plain": [
       "(175, 9)"
      ]
     },
     "execution_count": 18,
     "metadata": {},
     "output_type": "execute_result"
    }
   ],
   "source": [
    "#Display the shape of the DataFrame 'pop'\n",
    "pop.shape"
   ]
  },
  {
   "cell_type": "code",
   "execution_count": 19,
   "id": "61e87547",
   "metadata": {},
   "outputs": [
    {
     "data": {
      "text/plain": [
       "False    175\n",
       "Name: count, dtype: int64"
      ]
     },
     "execution_count": 19,
     "metadata": {},
     "output_type": "execute_result"
    }
   ],
   "source": [
    "#Check for duplicated rows in the DataFrame 'pop' and count each unique value\n",
    "pop.duplicated().value_counts()"
   ]
  },
  {
   "cell_type": "code",
   "execution_count": 20,
   "id": "50d10912",
   "metadata": {},
   "outputs": [
    {
     "data": {
      "text/html": [
       "<div>\n",
       "<style scoped>\n",
       "    .dataframe tbody tr th:only-of-type {\n",
       "        vertical-align: middle;\n",
       "    }\n",
       "\n",
       "    .dataframe tbody tr th {\n",
       "        vertical-align: top;\n",
       "    }\n",
       "\n",
       "    .dataframe thead th {\n",
       "        text-align: right;\n",
       "    }\n",
       "</style>\n",
       "<table border=\"1\" class=\"dataframe\">\n",
       "  <thead>\n",
       "    <tr style=\"text-align: right;\">\n",
       "      <th></th>\n",
       "      <th>Rank</th>\n",
       "    </tr>\n",
       "  </thead>\n",
       "  <tbody>\n",
       "    <tr>\n",
       "      <th>count</th>\n",
       "      <td>175.000000</td>\n",
       "    </tr>\n",
       "    <tr>\n",
       "      <th>mean</th>\n",
       "      <td>88.354286</td>\n",
       "    </tr>\n",
       "    <tr>\n",
       "      <th>std</th>\n",
       "      <td>51.169654</td>\n",
       "    </tr>\n",
       "    <tr>\n",
       "      <th>min</th>\n",
       "      <td>1.000000</td>\n",
       "    </tr>\n",
       "    <tr>\n",
       "      <th>25%</th>\n",
       "      <td>44.500000</td>\n",
       "    </tr>\n",
       "    <tr>\n",
       "      <th>50%</th>\n",
       "      <td>88.000000</td>\n",
       "    </tr>\n",
       "    <tr>\n",
       "      <th>75%</th>\n",
       "      <td>131.500000</td>\n",
       "    </tr>\n",
       "    <tr>\n",
       "      <th>max</th>\n",
       "      <td>177.000000</td>\n",
       "    </tr>\n",
       "  </tbody>\n",
       "</table>\n",
       "</div>"
      ],
      "text/plain": [
       "             Rank\n",
       "count  175.000000\n",
       "mean    88.354286\n",
       "std     51.169654\n",
       "min      1.000000\n",
       "25%     44.500000\n",
       "50%     88.000000\n",
       "75%    131.500000\n",
       "max    177.000000"
      ]
     },
     "execution_count": 20,
     "metadata": {},
     "output_type": "execute_result"
    }
   ],
   "source": [
    "#Generate descriptive statistics for the DataFrame 'pop'\n",
    "pop.describe()"
   ]
  },
  {
   "cell_type": "code",
   "execution_count": 21,
   "id": "4a7f6354",
   "metadata": {},
   "outputs": [
    {
     "data": {
      "image/png": "[encoded data removed]",
      "text/plain": [
       "<Figure size 1400x700 with 1 Axes>"
      ]
     },
     "metadata": {},
     "output_type": "display_data"
    }
   ],
   "source": [
    "#Set the figure size for the plot\n",
    "plt.figure(figsize=(14, 7))\n",
    "# Create a bar plot of the top 10 populous countries based on their ranks\n",
    "sns.barplot(x='Country Name', y='Rank', data=pop.sort_values(by='Population (Jan 2024)', ascending=False).head(10), palette='magma')\n",
    "#Set the title of the plot\n",
    "plt.title('Top 10 Populous Countries - Rank Analysis')\n",
    "plt.xlabel('Country')\n",
    "plt.ylabel('Rank')\n",
    "# Rotate the x-axis labels for better readability\n",
    "plt.xticks(rotation=90, ha='right')\n",
    "# Display the plot\n",
    "plt.show()\n",
    "\n",
    "\n",
    "\n"
   ]
  },
  {
   "cell_type": "code",
   "execution_count": 22,
   "id": "8d3906fd",
   "metadata": {},
   "outputs": [
    {
     "data": {
      "image/png": "[encoded data removed]",
      "text/plain": [
       "<Figure size 1400x700 with 1 Axes>"
      ]
     },
     "metadata": {},
     "output_type": "display_data"
    }
   ],
   "source": [
    "#Set the figure size for the plot\n",
    "plt.figure(figsize=(14, 7))\n",
    "#Create a scatter plot to visualize the relationship between land area and population\n",
    "sns.scatterplot(x='Land Area (Km)', y='Population (Jan 2024)', data=pop, color='green', alpha=0.7)\n",
    "plt.title('Population vs. Area')\n",
    "plt.xlabel('Land Area (Km)')\n",
    "plt.ylabel('Population (Jan 2024)')\n",
    "plt.xscale('log')\n",
    "plt.yscale('log')\n",
    "# Display the plot\n",
    "plt.show()\n",
    "\n",
    "\n"
   ]
  },
  {
   "cell_type": "code",
   "execution_count": 23,
   "id": "22c2f590",
   "metadata": {},
   "outputs": [
    {
     "data": {
      "text/html": [
       "<div>\n",
       "<style scoped>\n",
       "    .dataframe tbody tr th:only-of-type {\n",
       "        vertical-align: middle;\n",
       "    }\n",
       "\n",
       "    .dataframe tbody tr th {\n",
       "        vertical-align: top;\n",
       "    }\n",
       "\n",
       "    .dataframe thead th {\n",
       "        text-align: right;\n",
       "    }\n",
       "</style>\n",
       "<table border=\"1\" class=\"dataframe\">\n",
       "  <thead>\n",
       "    <tr style=\"text-align: right;\">\n",
       "      <th></th>\n",
       "      <th>Area(km)</th>\n",
       "      <th>Land Area (Km)</th>\n",
       "      <th>Rank</th>\n",
       "    </tr>\n",
       "  </thead>\n",
       "  <tbody>\n",
       "    <tr>\n",
       "      <th>Area(km)</th>\n",
       "      <td>1.000000</td>\n",
       "      <td>0.999902</td>\n",
       "      <td>-0.685072</td>\n",
       "    </tr>\n",
       "    <tr>\n",
       "      <th>Land Area (Km)</th>\n",
       "      <td>0.999902</td>\n",
       "      <td>1.000000</td>\n",
       "      <td>-0.679878</td>\n",
       "    </tr>\n",
       "    <tr>\n",
       "      <th>Rank</th>\n",
       "      <td>-0.685072</td>\n",
       "      <td>-0.679878</td>\n",
       "      <td>1.000000</td>\n",
       "    </tr>\n",
       "  </tbody>\n",
       "</table>\n",
       "</div>"
      ],
      "text/plain": [
       "                Area(km)  Land Area (Km)      Rank\n",
       "Area(km)        1.000000        0.999902 -0.685072\n",
       "Land Area (Km)  0.999902        1.000000 -0.679878\n",
       "Rank           -0.685072       -0.679878  1.000000"
      ]
     },
     "execution_count": 23,
     "metadata": {},
     "output_type": "execute_result"
    }
   ],
   "source": [
    "# Convert the data in 'pop' DataFrame to numeric type, coercing errors to NaN\n",
    "population_numeric = pop.apply(pd.to_numeric, errors='coerce')\n",
    "# Calculate the correlation matrix for selected numeric columns\n",
    "Correlation = population_numeric[['Area(km)','Land Area (Km)','Rank']].corr()\n",
    "Correlation"
   ]
  },
  {
   "cell_type": "code",
   "execution_count": 24,
   "id": "3cc598cd",
   "metadata": {},
   "outputs": [
    {
     "data": {
      "text/html": [
       "<div>\n",
       "<style scoped>\n",
       "    .dataframe tbody tr th:only-of-type {\n",
       "        vertical-align: middle;\n",
       "    }\n",
       "\n",
       "    .dataframe tbody tr th {\n",
       "        vertical-align: top;\n",
       "    }\n",
       "\n",
       "    .dataframe thead th {\n",
       "        text-align: right;\n",
       "    }\n",
       "</style>\n",
       "<table border=\"1\" class=\"dataframe\">\n",
       "  <thead>\n",
       "    <tr style=\"text-align: right;\">\n",
       "      <th></th>\n",
       "      <th>Area(km)</th>\n",
       "      <th>Land Area (Km)</th>\n",
       "      <th>Rank</th>\n",
       "    </tr>\n",
       "  </thead>\n",
       "  <tbody>\n",
       "    <tr>\n",
       "      <th>0</th>\n",
       "      <td>3.3M</td>\n",
       "      <td>3M</td>\n",
       "      <td>1</td>\n",
       "    </tr>\n",
       "    <tr>\n",
       "      <th>1</th>\n",
       "      <td>9.7M</td>\n",
       "      <td>9.4M</td>\n",
       "      <td>2</td>\n",
       "    </tr>\n",
       "    <tr>\n",
       "      <th>2</th>\n",
       "      <td>9.4M</td>\n",
       "      <td>9.1M</td>\n",
       "      <td>3</td>\n",
       "    </tr>\n",
       "    <tr>\n",
       "      <th>3</th>\n",
       "      <td>1.9M</td>\n",
       "      <td>1.9M</td>\n",
       "      <td>4</td>\n",
       "    </tr>\n",
       "    <tr>\n",
       "      <th>4</th>\n",
       "      <td>881.9K</td>\n",
       "      <td>770.9K</td>\n",
       "      <td>5</td>\n",
       "    </tr>\n",
       "    <tr>\n",
       "      <th>...</th>\n",
       "      <td>...</td>\n",
       "      <td>...</td>\n",
       "      <td>...</td>\n",
       "    </tr>\n",
       "    <tr>\n",
       "      <th>172</th>\n",
       "      <td>316</td>\n",
       "      <td>320</td>\n",
       "      <td>173</td>\n",
       "    </tr>\n",
       "    <tr>\n",
       "      <th>173</th>\n",
       "      <td>300</td>\n",
       "      <td>300</td>\n",
       "      <td>174</td>\n",
       "    </tr>\n",
       "    <tr>\n",
       "      <th>174</th>\n",
       "      <td>5.8K</td>\n",
       "      <td>5.3K</td>\n",
       "      <td>175</td>\n",
       "    </tr>\n",
       "    <tr>\n",
       "      <th>175</th>\n",
       "      <td>23K</td>\n",
       "      <td>22.8K</td>\n",
       "      <td>176</td>\n",
       "    </tr>\n",
       "    <tr>\n",
       "      <th>176</th>\n",
       "      <td>13.9K</td>\n",
       "      <td>10K</td>\n",
       "      <td>177</td>\n",
       "    </tr>\n",
       "  </tbody>\n",
       "</table>\n",
       "<p>175 rows × 3 columns</p>\n",
       "</div>"
      ],
      "text/plain": [
       "    Area(km) Land Area (Km)  Rank\n",
       "0       3.3M             3M     1\n",
       "1       9.7M           9.4M     2\n",
       "2       9.4M           9.1M     3\n",
       "3       1.9M           1.9M     4\n",
       "4     881.9K         770.9K     5\n",
       "..       ...            ...   ...\n",
       "172      316            320   173\n",
       "173      300            300   174\n",
       "174     5.8K           5.3K   175\n",
       "175      23K          22.8K   176\n",
       "176    13.9K            10K   177\n",
       "\n",
       "[175 rows x 3 columns]"
      ]
     },
     "execution_count": 24,
     "metadata": {},
     "output_type": "execute_result"
    }
   ],
   "source": [
    "#Selecting columns 'Area(km)', 'Land Area (Km)', and 'Rank' from the DataFrame 'pop'\n",
    "correlation = pop[['Area(km)','Land Area (Km)','Rank']]\n",
    "correlation"
   ]
  },
  {
   "cell_type": "code",
   "execution_count": 25,
   "id": "e0354678",
   "metadata": {},
   "outputs": [
    {
     "data": {
      "image/png": "[encoded data removed]",
      "text/plain": [
       "<Figure size 640x480 with 2 Axes>"
      ]
     },
     "metadata": {},
     "output_type": "display_data"
    }
   ],
   "source": [
    "#Create a heatmap to visualize the correlation matrix\n",
    "plt.figure()\n",
    "#Generate a heatmap with correlation values annotated, using the 'Reds' colormap\n",
    "sns.heatmap(Correlation, annot=True, cmap='Reds', fmt=\".2f\", linewidths=.5)\n",
    "#Set the title of the plot\n",
    "plt.title('Correlation matrix')\n",
    "plt.show()"
   ]
  },
  {
   "cell_type": "code",
   "execution_count": 26,
   "id": "f8f1656a",
   "metadata": {},
   "outputs": [
    {
     "name": "stdout",
     "output_type": "stream",
     "text": [
      "Skewness of the Rank = 0.02215469899940954\n",
      "Kurtosis value of the Rank = -1.1869669128784097\n"
     ]
    }
   ],
   "source": [
    "#Calculate the skewness of the 'Rank' column in the 'population_numeric' DataFrame\n",
    "skewval = skew(population_numeric['Rank'])\n",
    "# Print the skewness value\n",
    "print('Skewness of the Rank =', skewval)\n",
    "#Calculate the kurtosis of the 'Rank' column in the 'population_numeric' DataFrame\n",
    "kurtosis_val = kurtosis(population_numeric['Rank'])\n",
    "#Print the kurtosis value\n",
    "print('Kurtosis value of the Rank =', kurtosis_val)"
   ]
  }
 ],
 "metadata": {
  "kernelspec": {
   "display_name": "Python 3 (ipykernel)",
   "language": "python",
   "name": "python3"
  },
  "language_info": {
   "codemirror_mode": {
    "name": "ipython",
    "version": 3
   },
   "file_extension": ".py",
   "mimetype": "text/x-python",
   "name": "python",
   "nbconvert_exporter": "python",
   "pygments_lexer": "ipython3",
   "version": "3.11.5"
  }
 },
 "nbformat": 4,
 "nbformat_minor": 5
}
